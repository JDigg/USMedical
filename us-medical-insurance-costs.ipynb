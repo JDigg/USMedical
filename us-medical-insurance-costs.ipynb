{
 "cells": [
  {
   "cell_type": "markdown",
   "metadata": {},
   "source": [
    "# U.S. Medical Insurance Costs"
   ]
  },
  {
   "cell_type": "code",
   "execution_count": 26,
   "metadata": {},
   "outputs": [],
   "source": [
    "import csv\n",
    "from decimal import Decimal"
   ]
  },
  {
   "cell_type": "code",
   "execution_count": 27,
   "metadata": {},
   "outputs": [],
   "source": [
    "age = []\n",
    "sex = []\n",
    "bmi = []\n",
    "children = []\n",
    "smoker = []\n",
    "region = []\n",
    "charges = []"
   ]
  },
  {
   "cell_type": "code",
   "execution_count": 28,
   "metadata": {},
   "outputs": [],
   "source": [
    "with open('insurance.csv', newline = '') as insurance_csv:\n",
    "    insurance_datafile = csv.DictReader(insurance_csv)\n",
    "    for row in insurance_datafile:\n",
    "        age.append (row['age'])\n",
    "        sex.append (row['sex'])\n",
    "        bmi.append (row['bmi'])\n",
    "        children.append (row['children'])\n",
    "        smoker.append (row['smoker'])\n",
    "        region.append (row['region'])\n",
    "        charges.append (row['charges'])\n",
    "    \n",
    "    \n",
    "    "
   ]
  },
  {
   "cell_type": "code",
   "execution_count": 29,
   "metadata": {},
   "outputs": [],
   "source": [
    "def average_age(ages):\n",
    "    average_sum = 0\n",
    "    for i in ages:\n",
    "        average_sum += int(i)\n",
    "    average_ages = average_sum / len(ages)\n",
    "    print( \"The average age in this data set is \" + str(round (average_ages, 2)))"
   ]
  },
  {
   "cell_type": "code",
   "execution_count": 30,
   "metadata": {},
   "outputs": [
    {
     "name": "stdout",
     "output_type": "stream",
     "text": [
      "The average age in this data set is 39.21\n"
     ]
    }
   ],
   "source": [
    "average_age(age)"
   ]
  },
  {
   "cell_type": "code",
   "execution_count": 66,
   "metadata": {},
   "outputs": [
    {
     "ename": "SyntaxError",
     "evalue": "invalid syntax (Temp/ipykernel_9144/2407710089.py, line 20)",
     "output_type": "error",
     "traceback": [
      "\u001b[1;36m  File \u001b[1;32m\"C:\\Users\\digginj1\\AppData\\Local\\Temp/ipykernel_9144/2407710089.py\"\u001b[1;36m, line \u001b[1;32m20\u001b[0m\n\u001b[1;33m    location_sorted = sorted([(value, key) for (key,value) in location_count.items()],(reverse = True))\u001b[0m\n\u001b[1;37m                                                                                               ^\u001b[0m\n\u001b[1;31mSyntaxError\u001b[0m\u001b[1;31m:\u001b[0m invalid syntax\n"
     ]
    }
   ],
   "source": [
    "def location_totals(region):\n",
    "    location_count = {\"Southeast\":[], \"Southwest\":[], \"Northeast\":[], \"Northwest\":[]}\n",
    "    se_count = 0\n",
    "    sw_count = 0\n",
    "    ne_count = 0\n",
    "    nw_count = 0\n",
    "    for i in region:\n",
    "        if i == \"southwest\":\n",
    "            sw_count += 1\n",
    "        elif i == \"southeast\":\n",
    "            se_count += 1\n",
    "        elif i == \"northwest\":\n",
    "            nw_count += 1\n",
    "        elif i == \"northeast\":\n",
    "            ne_count += 1\n",
    "    location_count[\"Southeast\"].append(se_count)\n",
    "    location_count[\"Southwest\"].append(sw_count)\n",
    "    location_count[\"Northeast\"].append(ne_count)\n",
    "    location_count[\"Northwest\"].append(nw_count)\n",
    "    location_sorted = sorted([(value, key) for (key,value) in location_count.items()])\n",
    "    print(location_sorted)\n",
    "    "
   ]
  },
  {
   "cell_type": "code",
   "execution_count": 64,
   "metadata": {},
   "outputs": [
    {
     "name": "stdout",
     "output_type": "stream",
     "text": [
      "[([324], 'Northeast'), ([325], 'Northwest'), ([325], 'Southwest'), ([364], 'Southeast')]\n"
     ]
    }
   ],
   "source": [
    "location_totals(region)"
   ]
  },
  {
   "cell_type": "code",
   "execution_count": null,
   "metadata": {},
   "outputs": [],
   "source": []
  }
 ],
 "metadata": {
  "kernelspec": {
   "display_name": "Python 3 (ipykernel)",
   "language": "python",
   "name": "python3"
  },
  "language_info": {
   "codemirror_mode": {
    "name": "ipython",
    "version": 3
   },
   "file_extension": ".py",
   "mimetype": "text/x-python",
   "name": "python",
   "nbconvert_exporter": "python",
   "pygments_lexer": "ipython3",
   "version": "3.9.7"
  }
 },
 "nbformat": 4,
 "nbformat_minor": 4
}
