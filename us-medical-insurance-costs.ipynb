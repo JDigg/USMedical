{
 "cells": [
  {
   "cell_type": "markdown",
   "metadata": {},
   "source": [
    "# U.S. Medical Insurance Costs"
   ]
  },
  {
   "cell_type": "code",
   "execution_count": 63,
   "metadata": {},
   "outputs": [],
   "source": [
    "import csv\n",
    "from decimal import Decimal"
   ]
  },
  {
   "cell_type": "code",
   "execution_count": 64,
   "metadata": {},
   "outputs": [],
   "source": [
    "age = []\n",
    "sex = []\n",
    "bmi = []\n",
    "children = []\n",
    "smoker = []\n",
    "region = []\n",
    "charges = []\n",
    "insurance_dictionary = {\"Age\" : [], \"Sex\" : [], \"BMI\" : [], \"Number of Children\" : [], \"Smoker\" : [], \"Region\" : [], \"Charges\" :[]}"
   ]
  },
  {
   "cell_type": "code",
   "execution_count": 65,
   "metadata": {},
   "outputs": [],
   "source": [
    "with open('insurance.csv', newline = '') as insurance_csv:\n",
    "    insurance_datafile = csv.DictReader(insurance_csv)\n",
    "    for row in insurance_datafile:\n",
    "        age.append (row['age'])\n",
    "        sex.append (row['sex'])\n",
    "        bmi.append (row['bmi'])\n",
    "        children.append (row['children'])\n",
    "        smoker.append (row['smoker'])\n",
    "        region.append (row['region'])\n",
    "        charges.append (row['charges'])"
   ]
  },
  {
   "cell_type": "code",
   "execution_count": null,
   "metadata": {},
   "outputs": [],
   "source": []
  },
  {
   "cell_type": "code",
   "execution_count": 66,
   "metadata": {},
   "outputs": [],
   "source": [
    "insurance_dictionary[\"Age\"].append(age)\n",
    "insurance_dictionary[\"Sex\"].append(sex)\n",
    "insurance_dictionary[\"BMI\"].append(bmi)\n",
    "insurance_dictionary[\"Number of Children\"].append(children)\n",
    "insurance_dictionary[\"Smoker\"].append(smoker)\n",
    "insurance_dictionary[\"Region\"].append(region)\n",
    "insurance_dictionary[\"Charges\"].append(charges)"
   ]
  },
  {
   "cell_type": "code",
   "execution_count": 67,
   "metadata": {},
   "outputs": [],
   "source": [
    "def average_age(ages):\n",
    "    average_sum = 0\n",
    "    for i in ages:\n",
    "        average_sum += int(i)\n",
    "    average_ages = average_sum / len(ages)\n",
    "    print( \"The average age in this data set is \" + str(round (average_ages, 2)))"
   ]
  },
  {
   "cell_type": "code",
   "execution_count": 68,
   "metadata": {},
   "outputs": [
    {
     "name": "stdout",
     "output_type": "stream",
     "text": [
      "The average age in this data set is 39.21\n"
     ]
    }
   ],
   "source": [
    "average_age(age)"
   ]
  },
  {
   "cell_type": "code",
   "execution_count": 69,
   "metadata": {},
   "outputs": [],
   "source": [
    "def location_totals(region):\n",
    "    location_count = {\"Southeast\":[], \"Southwest\":[], \"Northeast\":[], \"Northwest\":[]}\n",
    "    se_count = 0\n",
    "    sw_count = 0\n",
    "    ne_count = 0\n",
    "    nw_count = 0\n",
    "    for i in region:\n",
    "        if i == \"southwest\":\n",
    "            sw_count += 1\n",
    "        elif i == \"southeast\":\n",
    "            se_count += 1\n",
    "        elif i == \"northwest\":\n",
    "            nw_count += 1\n",
    "        elif i == \"northeast\":\n",
    "            ne_count += 1\n",
    "    location_count[\"Southeast\"].append(se_count)\n",
    "    location_count[\"Southwest\"].append(sw_count)\n",
    "    location_count[\"Northeast\"].append(ne_count)\n",
    "    location_count[\"Northwest\"].append(nw_count)\n",
    "    if (se_count > sw_count) and (se_count > ne_count) and (se_count > nw_count):\n",
    "        print (\"The region with the highest number of customers is the Southeast, there are \" + str(se_count) + \" customers from that area.\" )\n",
    "    elif (sw_count > se_count) and (sw_count > ne_count) and (sw_count > nw_count):\n",
    "        print (\"The region with the highest number of customers is the Southwest, there are \" + str(sw_count) + \" customers from that area.\" )\n",
    "    elif (ne_count > sw_count) and (ne_count > se_count) and (ne_count > nw_count):\n",
    "        print (\"The region with the highest number of customers is the Northeast, there are \" + str(ne_count) + \" customers from that area.\" )\n",
    "    elif (nw_count > se_count) and (nw_count > ne_count) and (nw_count > ne_count):\n",
    "        print (\"The region with the highest number of customers is the Northwest, there are \" + str(nw_count) + \" customers from that area.\" )    "
   ]
  },
  {
   "cell_type": "code",
   "execution_count": 70,
   "metadata": {},
   "outputs": [
    {
     "name": "stdout",
     "output_type": "stream",
     "text": [
      "The region with the highest number of customers is the Southeast, there are 364 customers from that area.\n"
     ]
    }
   ],
   "source": [
    "location_totals(region)"
   ]
  },
  {
   "cell_type": "code",
   "execution_count": 71,
   "metadata": {},
   "outputs": [],
   "source": [
    "def smoker_cost_compare(smoker_status, charges_total):\n",
    "    smoker_avg_count = 0\n",
    "    smoker_avg = 0\n",
    "    smoker_sum = 0\n",
    "    nsmoker_avg_count = 0\n",
    "    nsmoker_avg = 0\n",
    "    nsmoker_sum = 0\n",
    "    for i,c in zip(smoker_status, charges_total):\n",
    "        if i == \"yes\":\n",
    "            smoker_sum += int(float(c))\n",
    "            smoker_avg_count += 1\n",
    "        elif i == \"no\":\n",
    "            nsmoker_sum += int(float(c))\n",
    "            nsmoker_avg_count += 1\n",
    "    smoker_avg = smoker_sum / smoker_avg_count\n",
    "    nsmoker_avg = nsmoker_sum / nsmoker_avg_count\n",
    "    print(\"The average insurance cost for a smoker is \" + str(round(smoker_avg,2)) + \".\")\n",
    "    print(\"The average insurance cost for a nonsmoker is \" + str(round(nsmoker_avg,2)) + \".\")"
   ]
  },
  {
   "cell_type": "code",
   "execution_count": 72,
   "metadata": {},
   "outputs": [
    {
     "name": "stdout",
     "output_type": "stream",
     "text": [
      "The average insurance cost for a smoker is 32049.73.\n",
      "The average insurance cost for a nonsmoker is 8433.78.\n"
     ]
    }
   ],
   "source": [
    "smoker_cost_compare(smoker,charges)"
   ]
  },
  {
   "cell_type": "code",
   "execution_count": 89,
   "metadata": {},
   "outputs": [],
   "source": [
    "def avg_age_with_child (ages,number_of_children):\n",
    "    average_sum = 0\n",
    "    child_total = 0\n",
    "    for i,c in zip(ages,number_of_children):\n",
    "        if int(c) >= 1:\n",
    "            average_sum += int(i)\n",
    "            child_total += 1\n",
    "    average_age = average_sum / child_total\n",
    "    print(\"The average age for a person with 1 or more children is \" + str(round(average_age,2)))"
   ]
  },
  {
   "cell_type": "code",
   "execution_count": 90,
   "metadata": {
    "scrolled": true
   },
   "outputs": [
    {
     "name": "stdout",
     "output_type": "stream",
     "text": [
      "The average age for a person with 1 or more children is 39.78\n"
     ]
    }
   ],
   "source": [
    "avg_age_with_child(age,children)"
   ]
  },
  {
   "cell_type": "code",
   "execution_count": null,
   "metadata": {},
   "outputs": [],
   "source": []
  }
 ],
 "metadata": {
  "kernelspec": {
   "display_name": "Python 3 (ipykernel)",
   "language": "python",
   "name": "python3"
  },
  "language_info": {
   "codemirror_mode": {
    "name": "ipython",
    "version": 3
   },
   "file_extension": ".py",
   "mimetype": "text/x-python",
   "name": "python",
   "nbconvert_exporter": "python",
   "pygments_lexer": "ipython3",
   "version": "3.9.7"
  }
 },
 "nbformat": 4,
 "nbformat_minor": 4
}
